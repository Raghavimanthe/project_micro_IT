{
  "nbformat": 4,
  "nbformat_minor": 0,
  "metadata": {
    "colab": {
      "provenance": [],
      "include_colab_link": true
    },
    "kernelspec": {
      "name": "python3",
      "display_name": "Python 3"
    },
    "language_info": {
      "name": "python"
    }
  },
  "cells": [
    {
      "cell_type": "markdown",
      "metadata": {
        "id": "view-in-github",
        "colab_type": "text"
      },
      "source": [
        "<a href=\"https://colab.research.google.com/github/Raghavimanthe/project_micro_IT/blob/main/code_for_password_generator.ipynb\" target=\"_parent\"><img src=\"https://colab.research.google.com/assets/colab-badge.svg\" alt=\"Open In Colab\"/></a>"
      ]
    },
    {
      "cell_type": "code",
      "execution_count": 1,
      "metadata": {
        "colab": {
          "base_uri": "https://localhost:8080/"
        },
        "id": "6L5lAPIEopa6",
        "outputId": "369e5cc9-2494-462e-821d-edc6dfc11f80"
      },
      "outputs": [
        {
          "output_type": "stream",
          "name": "stdout",
          "text": [
            "Enter password length: 5\n",
            "MwIWi\n"
          ]
        }
      ],
      "source": [
        "import string\n",
        "import random\n",
        "\n",
        "\n",
        "\n",
        "characters = list(string.ascii_letters + string.digits + \"!@#$%^&*()\")\n",
        "\n",
        "def generate_random_password():\n",
        "\n",
        "\tlength = int(input(\"Enter password length: \"))\n",
        "\n",
        "\n",
        "\trandom.shuffle(characters)\n",
        "\n",
        "\n",
        "\tpassword = []\n",
        "\tfor i in range(length):\n",
        "\t\tpassword.append(random.choice(characters))\n",
        "\n",
        "\n",
        "\trandom.shuffle(password)\n",
        "\n",
        "\n",
        "\tprint(\"\".join(password))\n",
        "\n",
        "\n",
        "\n",
        "\n",
        "generate_random_password()"
      ]
    },
    {
      "cell_type": "code",
      "source": [
        "\n",
        "import string\n",
        "import random\n",
        "\n",
        "\n",
        "\n",
        "alphabets = list(string.ascii_letters)\n",
        "digits = list(string.digits)\n",
        "special_characters = list(\"!@#$%^&*()\")\n",
        "characters = list(string.ascii_letters + string.digits + \"!@#$%^&*()\")\n",
        "\n",
        "def generate_random_password():\n",
        "\n",
        "\tlength = int(input(\"Enter password length: \"))\n",
        "\n",
        "\n",
        "\talphabets_count = int(input(\"Enter alphabets count in password: \"))\n",
        "\tdigits_count = int(input(\"Enter digits count in password: \"))\n",
        "\tspecial_characters_count = int(input(\"Enter special characters count in password: \"))\n",
        "\n",
        "\tcharacters_count = alphabets_count + digits_count + special_characters_count\n",
        "\n",
        "\n",
        "\tif characters_count > length:\n",
        "\t\tprint(\"Characters total count is greater than the password length\")\n",
        "\t\treturn\n",
        "\n",
        "\n",
        "\n",
        "\tpassword = []\n",
        "\n",
        "\n",
        "\tfor i in range(alphabets_count):\n",
        "\t\tpassword.append(random.choice(alphabets))\n",
        "\n",
        "\n",
        "\n",
        "\tfor i in range(digits_count):\n",
        "\t\tpassword.append(random.choice(digits))\n",
        "\n",
        "\n",
        "\n",
        "\tfor i in range(special_characters_count):\n",
        "\t\tpassword.append(random.choice(special_characters))\n",
        "\n",
        "\n",
        "\n",
        "\tif characters_count < length:\n",
        "\t\trandom.shuffle(characters)\n",
        "\t\tfor i in range(length - characters_count):\n",
        "\t\t\tpassword.append(random.choice(characters))\n",
        "\n",
        "\n",
        "\n",
        "\trandom.shuffle(password)\n",
        "\n",
        "\n",
        "\tprint(\"\".join(password))\n",
        "\n",
        "\n",
        "\n",
        "\n",
        "generate_random_password()"
      ],
      "metadata": {
        "colab": {
          "base_uri": "https://localhost:8080/"
        },
        "id": "YnnTBMcgpJy9",
        "outputId": "1d978af4-41b4-44e0-ad5d-14d81caa5332"
      },
      "execution_count": 2,
      "outputs": [
        {
          "output_type": "stream",
          "name": "stdout",
          "text": [
            "Enter password length: 8\n",
            "Enter alphabets count in password: 4\n",
            "Enter digits count in password: 3\n",
            "Enter special characters count in password: 1\n",
            "(3ka5L1K\n"
          ]
        }
      ]
    }
  ]
}